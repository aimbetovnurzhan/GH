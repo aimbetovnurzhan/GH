{
 "cells": [
  {
   "cell_type": "code",
   "execution_count": null,
   "id": "89a5eaf2",
   "metadata": {},
   "outputs": [],
   "source": [
    "# Для заданного списка строк, вернуть количество\n",
    "# строк, длина которых равна 2 или более, а первый\n",
    "# и последний символы строки одинаковы.\n",
    "# Примечание: в Python нет оператора ++, но += работает.\n",
    "\n",
    "def match_ends(words):\n",
    "    \n"
   ]
  },
  {
   "cell_type": "code",
   "execution_count": 4,
   "id": "afbdd5e8",
   "metadata": {},
   "outputs": [
    {
     "name": "stdout",
     "output_type": "stream",
     "text": [
      "введите сумму чека:\n",
      "250\n",
      "количество гостей:\n",
      "1\n",
      "введите сумма чаевых:\n",
      "25\n",
      "Tips: $25.00.\n",
      " Общая сумма к оплате: $ 275.00.\n"
     ]
    }
   ],
   "source": [
    "#Сделать калькулятор, ввести общую сумму чека, кол-во людей (имена людей) и сумму чаевых.\n",
    "#В итоге нужно вернуть  тотал сумму чека, сумму чаевых.\n",
    "# Дальше разделить чек по именам с суммами на каждого, чаевые и тотал на каждого.\n",
    "\n",
    "print('введите сумму чека:')\n",
    "s=float(input())\n",
    "\n",
    "print('количество гостей:')\n",
    "c=int(input())\n",
    "\n",
    "eachBillAmnt = s/c\n",
    "totalTips=0\n",
    "\n",
    "if c>1:\n",
    "    tipsList=[]\n",
    "    for i in range(c):\n",
    "        print('введите сумму чаевых гостя №' + str(i+1) + ' :')\n",
    "        tip = float(input())\n",
    "        print('Гост № %d.\\n Доля суммы к оплате: $%0.2f.\\n Tips: $%0.2f.\\n Общая сумма к оплате: $ %0.2f.' %  (i+1, eachBillAmnt, tip, eachBillAmnt + tip))\n",
    "        totalTips += tip\n",
    "        print('TotalTips: $%0.2f.\\nОбщая сумма к оплате: $ %0.2f.' %  (totalTips, s + totalTips))\n",
    "else:\n",
    "    print('введите сумма чаевых:')\n",
    "    totalTips = float(input())\n",
    "    print('Tips: $%0.2f.\\nОбщая сумма к оплате: $ %0.2f.' %  (totalTips, s + totalTips))\n",
    "\n"
   ]
  }
 ],
 "metadata": {
  "kernelspec": {
   "display_name": "Python 3 (ipykernel)",
   "language": "python",
   "name": "python3"
  },
  "language_info": {
   "codemirror_mode": {
    "name": "ipython",
    "version": 3
   },
   "file_extension": ".py",
   "mimetype": "text/x-python",
   "name": "python",
   "nbconvert_exporter": "python",
   "pygments_lexer": "ipython3",
   "version": "3.9.13"
  }
 },
 "nbformat": 4,
 "nbformat_minor": 5
}
