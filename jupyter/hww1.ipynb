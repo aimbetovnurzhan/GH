{
 "cells": [
  {
   "cell_type": "code",
   "execution_count": 4,
   "id": "afbdd5e8",
   "metadata": {},
   "outputs": [
    {
     "name": "stdout",
     "output_type": "stream",
     "text": [
      "введите сумму чека:\n",
      "250\n",
      "количество гостей:\n",
      "1\n",
      "введите сумма чаевых:\n",
      "25\n",
      "Tips: $25.00.\n",
      " Общая сумма к оплате: $ 275.00.\n"
     ]
    }
   ],
   "source": [
    "#Сделать калькулятор, ввести общую сумму чека, кол-во людей (имена людей) и сумму чаевых.\n",
    "#В итоге нужно вернуть  тотал сумму чека, сумму чаевых.\n",
    "# Дальше разделить чек по именам с суммами на каждого, чаевые и тотал на каждого.\n",
    "\n",
    "print('введите сумму чека:')\n",
    "s=float(input())\n",
    "\n",
    "print('количество гостей:')\n",
    "c=int(input())\n",
    "\n",
    "eachBillAmnt = s/c\n",
    "totalTips=0\n",
    "\n",
    "if c>1:\n",
    "    tipsList=[]\n",
    "    for i in range(c):\n",
    "        print('введите сумму чаевых гостя №' + str(i+1) + ' :')\n",
    "        tip = float(input())\n",
    "        print('Гост № %d.\\n Доля суммы к оплате: $%0.2f.\\n Tips: $%0.2f.\\n Общая сумма к оплате: $ %0.2f.' %  (i+1, eachBillAmnt, tip, eachBillAmnt + tip))\n",
    "        totalTips += tip\n",
    "        print('TotalTips: $%0.2f.\\nОбщая сумма к оплате: $ %0.2f.' %  (totalTips, s + totalTips))\n",
    "else:\n",
    "    print('введите сумма чаевых:')\n",
    "    totalTips = float(input())\n",
    "    print('Tips: $%0.2f.\\nОбщая сумма к оплате: $ %0.2f.' %  (totalTips, s + totalTips))\n",
    "\n"
   ]
  },
  {
   "cell_type": "code",
   "execution_count": 48,
   "id": "d37b14cc",
   "metadata": {},
   "outputs": [
    {
     "name": "stdout",
     "output_type": "stream",
     "text": [
      "match_ends\n",
      "  X  got: 2 expected: 3\n",
      "  X  got: 1 expected: 2\n",
      " OK  got: 1 expected: 1\n",
      "\n",
      "front_x\n",
      "  X  got: None expected: ['xaa', 'xzz', 'axx', 'bbb', 'ccc']\n",
      "  X  got: None expected: ['xaa', 'xcc', 'aaa', 'bbb', 'ccc']\n",
      "  X  got: None expected: ['xanadu', 'xyz', 'aardvark', 'apple', 'mix']\n",
      "\n",
      "sort_last\n",
      "  X  got: None expected: [(2, 1), (3, 2), (1, 3)]\n",
      "  X  got: None expected: [(3, 1), (1, 2), (2, 3)]\n",
      "  X  got: None expected: [(2, 2), (1, 3), (3, 4, 5), (1, 7)]\n"
     ]
    }
   ],
   "source": [
    "# A. match_ends\n",
    "# Given a list of strings, return the count of the number of\n",
    "# strings where the string length is 2 or more and the first\n",
    "# and last chars of the string are the same.\n",
    "# Note: python does not have a ++ operator, but += works.\n",
    "def match_ends(words):\n",
    "  # +++your code here+++\n",
    "    j = 0\n",
    "    for i in range(len(words)-1):\n",
    "        if len(words[i]) >= 2 and words[i][0] == words[i][-1]:\n",
    "            j += 1\n",
    "    return j\n",
    "\n",
    "# B. front_x\n",
    "# Given a list of strings, return a list with the strings\n",
    "# in sorted order, except group all the strings that begin with 'x' first.\n",
    "# e.g. ['mix', 'xyz', 'apple', 'xanadu', 'aardvark'] yields\n",
    "# ['xanadu', 'xyz', 'aardvark', 'apple', 'mix']\n",
    "# Hint: this can be done by making 2 lists and sorting each of them\n",
    "# before combining them.\n",
    "def front_x(words):\n",
    "  # +++your code here+++\n",
    "  return\n",
    "\n",
    "\n",
    "\n",
    "# C. sort_last\n",
    "# Given a list of non-empty tuples, return a list sorted in increasing\n",
    "# order by the last element in each tuple.\n",
    "# e.g. [(1, 7), (1, 3), (3, 4, 5), (2, 2)] yields\n",
    "# [(2, 2), (1, 3), (3, 4, 5), (1, 7)]\n",
    "# Hint: use a custom key= function to extract the last element form each tuple.\n",
    "def sort_last(tuples):\n",
    "  # +++your code here+++\n",
    "  return\n",
    "\n",
    "\n",
    "# Simple provided test() function used in main() to print\n",
    "# what each function returns vs. what it's supposed to return.\n",
    "def test(got, expected):\n",
    "    if got == expected:\n",
    "        prefix = ' OK '\n",
    "    else:\n",
    "        prefix = '  X '\n",
    "    print('%s got: %s expected: %s' % (prefix, repr(got), repr(expected)))\n",
    "\n",
    "\n",
    "# Calls the above functions with interesting inputs.\n",
    "def main():\n",
    "  print('match_ends')\n",
    "  test(match_ends(['aba', 'xyz', 'aa', 'x', 'bbb']), 3)\n",
    "  test(match_ends(['', 'x', 'xy', 'xyx', 'xx']), 2)\n",
    "  test(match_ends(['aaa', 'be', 'abc', 'hello']), 1)\n",
    "\n",
    "  print()\n",
    "  print('front_x')\n",
    "  test(front_x(['bbb', 'ccc', 'axx', 'xzz', 'xaa']),\n",
    "       ['xaa', 'xzz', 'axx', 'bbb', 'ccc'])\n",
    "  test(front_x(['ccc', 'bbb', 'aaa', 'xcc', 'xaa']),\n",
    "       ['xaa', 'xcc', 'aaa', 'bbb', 'ccc'])\n",
    "  test(front_x(['mix', 'xyz', 'apple', 'xanadu', 'aardvark']),\n",
    "       ['xanadu', 'xyz', 'aardvark', 'apple', 'mix'])\n",
    "\n",
    "\n",
    "  print()\n",
    "  print('sort_last')\n",
    "  test(sort_last([(1, 3), (3, 2), (2, 1)]),\n",
    "       [(2, 1), (3, 2), (1, 3)])\n",
    "  test(sort_last([(2, 3), (1, 2), (3, 1)]),\n",
    "       [(3, 1), (1, 2), (2, 3)])\n",
    "  test(sort_last([(1, 7), (1, 3), (3, 4, 5), (2, 2)]),\n",
    "       [(2, 2), (1, 3), (3, 4, 5), (1, 7)])\n",
    "\n",
    "main()"
   ]
  },
  {
   "cell_type": "code",
   "execution_count": 41,
   "id": "93352d4e",
   "metadata": {},
   "outputs": [
    {
     "name": "stdout",
     "output_type": "stream",
     "text": [
      "3\n"
     ]
    }
   ],
   "source": [
    "# test(match_ends(['aba', 'xyz', 'aa', 'x', 'bbb']), 3)\n",
    "list1 = ['aba', 'xyz', 'aa', 'x', 'bbb']\n",
    "len(list1)\n",
    "j = 0\n",
    "for i in range(len(list1)):\n",
    "    if len(list1[i]) >= 2 and list1[i][0] == list1[i][-1]:\n",
    "        j += 1\n",
    "print(j)"
   ]
  }
 ],
 "metadata": {
  "kernelspec": {
   "display_name": "Python 3 (ipykernel)",
   "language": "python",
   "name": "python3"
  },
  "language_info": {
   "codemirror_mode": {
    "name": "ipython",
    "version": 3
   },
   "file_extension": ".py",
   "mimetype": "text/x-python",
   "name": "python",
   "nbconvert_exporter": "python",
   "pygments_lexer": "ipython3",
   "version": "3.9.13"
  }
 },
 "nbformat": 4,
 "nbformat_minor": 5
}
