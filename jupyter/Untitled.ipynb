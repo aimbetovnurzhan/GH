{
 "cells": [
  {
   "cell_type": "code",
   "execution_count": 4,
   "id": "1c06fe27",
   "metadata": {},
   "outputs": [
    {
     "name": "stdout",
     "output_type": "stream",
     "text": [
      "Hello, Amir. How are you doing? Would you like Coke?\n"
     ]
    }
   ],
   "source": [
    "def function1(name, drink):\n",
    "    print(\"Hello, \" + name + \". How are you doing? Would you like \" + drink + \"?\")\n",
    "\n",
    "function1(\"Amir\",\"Coke\")"
   ]
  },
  {
   "cell_type": "code",
   "execution_count": null,
   "id": "a2eb953f",
   "metadata": {},
   "outputs": [
    {
     "name": "stdout",
     "output_type": "stream",
     "text": [
      "9\n"
     ]
    }
   ],
   "source": [
    "def sumfunc(x, y):\n",
    "    a = x + y\n",
    "    print(a)\n",
    "\n",
    "sumfunc(5, 4)"
   ]
  },
  {
   "cell_type": "code",
   "execution_count": 11,
   "id": "e1820ffc",
   "metadata": {},
   "outputs": [
    {
     "name": "stdout",
     "output_type": "stream",
     "text": [
      "20\n"
     ]
    }
   ],
   "source": [
    "def multfunc(x, y):\n",
    "    a = x * y\n",
    "    print(a)\n",
    "\n",
    "multfunc(5, 4)"
   ]
  },
  {
   "cell_type": "code",
   "execution_count": 13,
   "id": "1fbb6116",
   "metadata": {},
   "outputs": [
    {
     "name": "stdout",
     "output_type": "stream",
     "text": [
      "35\n"
     ]
    }
   ],
   "source": [
    "a = multfunc(5, 7)\n"
   ]
  }
 ],
 "metadata": {
  "kernelspec": {
   "display_name": "Python 3 (ipykernel)",
   "language": "python",
   "name": "python3"
  },
  "language_info": {
   "codemirror_mode": {
    "name": "ipython",
    "version": 3
   },
   "file_extension": ".py",
   "mimetype": "text/x-python",
   "name": "python",
   "nbconvert_exporter": "python",
   "pygments_lexer": "ipython3",
   "version": "3.9.13"
  }
 },
 "nbformat": 4,
 "nbformat_minor": 5
}
