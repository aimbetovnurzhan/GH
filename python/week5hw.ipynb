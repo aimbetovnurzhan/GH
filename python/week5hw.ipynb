{
 "cells": [
  {
   "cell_type": "code",
   "execution_count": 6,
   "id": "afbdd5e8",
   "metadata": {},
   "outputs": [
    {
     "name": "stdout",
     "output_type": "stream",
     "text": [
      "Gues the number, you have 5 attepts to guess it 80\n"
     ]
    },
    {
     "ename": "ValueError",
     "evalue": "invalid literal for int() with base 10: ''",
     "output_type": "error",
     "traceback": [
      "\u001b[1;31m---------------------------------------------------------------------------\u001b[0m",
      "\u001b[1;31mValueError\u001b[0m                                Traceback (most recent call last)",
      "Cell \u001b[1;32mIn[6], line 11\u001b[0m\n\u001b[0;32m      8\u001b[0m \u001b[38;5;28mprint\u001b[39m(\u001b[38;5;124m\"\u001b[39m\u001b[38;5;124mGues the number, you have \u001b[39m\u001b[38;5;132;01m%d\u001b[39;00m\u001b[38;5;124m attepts to guess it\u001b[39m\u001b[38;5;124m\"\u001b[39m \u001b[38;5;241m%\u001b[39m(attempts), a)\n\u001b[0;32m     10\u001b[0m \u001b[38;5;28;01mfor\u001b[39;00m attempt \u001b[38;5;129;01min\u001b[39;00m \u001b[38;5;28mrange\u001b[39m(attempts):\n\u001b[1;32m---> 11\u001b[0m     attempt \u001b[38;5;241m=\u001b[39m \u001b[38;5;28;43mint\u001b[39;49m\u001b[43m(\u001b[49m\u001b[38;5;28;43minput\u001b[39;49m\u001b[43m(\u001b[49m\u001b[38;5;124;43m\"\u001b[39;49m\u001b[38;5;124;43mYour \u001b[39;49m\u001b[38;5;132;43;01m%d\u001b[39;49;00m\u001b[38;5;124;43m attempt is: \u001b[39;49m\u001b[38;5;124;43m\"\u001b[39;49m\u001b[43m \u001b[49m\u001b[38;5;241;43m%\u001b[39;49m\u001b[43m(\u001b[49m\u001b[43mattempt\u001b[49m\u001b[38;5;241;43m+\u001b[39;49m\u001b[38;5;241;43m1\u001b[39;49m\u001b[43m)\u001b[49m\u001b[43m)\u001b[49m\u001b[43m)\u001b[49m\n\u001b[0;32m     12\u001b[0m     \u001b[38;5;28;01mif\u001b[39;00m attempt \u001b[38;5;241m>\u001b[39m a:\n\u001b[0;32m     13\u001b[0m         \u001b[38;5;28;01mif\u001b[39;00m attempt \u001b[38;5;241m-\u001b[39m a \u001b[38;5;241m>\u001b[39m \u001b[38;5;241m5\u001b[39m:\n",
      "\u001b[1;31mValueError\u001b[0m: invalid literal for int() with base 10: ''"
     ]
    }
   ],
   "source": [
    "# Number Guessing Game. The program chooses a secret random number between 1 and 100. \n",
    "# The user has a limited number of attempts to guess it.\n",
    "# After each guess, the program tells the user if their guess was \"too high,\" \"too low,\" or \"correct.\"\n",
    "import random as rd\n",
    "\n",
    "a = rd.randint(1, 100)\n",
    "attempts = 5\n",
    "print(\"Gues the number, you have %d attepts to guess it\" %(attempts), a)\n",
    "\n",
    "for attempt in range(attempts):\n",
    "    attempt = int(input(\"Your %d attempt is: \" %(attempt+1)))\n",
    "    if attempt > a:\n",
    "        if attempt - a > 5:\n",
    "            print(\"Too high\")\n",
    "        else:\n",
    "            print(\"Little high\")\n",
    "    elif attempt < a:\n",
    "        if a - attempt > 5:\n",
    "            print(\"Too low\")\n",
    "        else:\n",
    "            print(\"Little low\")\n",
    "    else:\n",
    "        print(\"Nice job, correct\")\n",
    "        break\n",
    "else:\n",
    "    print(\"Sorry, you lose )))\")"
   ]
  },
  {
   "cell_type": "code",
   "execution_count": 4,
   "id": "060a0be7",
   "metadata": {},
   "outputs": [
    {
     "name": "stdout",
     "output_type": "stream",
     "text": [
      "You've finished your session, Bye!\n"
     ]
    }
   ],
   "source": [
    "# Simple To-Do List. Create a program that allows a user to manage a to-do list. \n",
    "# The user should be able to: Add a new task. View all tasks. Delete a task by its name or number.\n",
    "# The program should loop until the user decides to quit\n",
    "tasks = [\"Math\", \"Python\", \"CompSys\", \"OfficeHours\", \"Games\", \"HomeWork\", \"Test\"]\n",
    "errmsg = \"\\n You entered wrong number, please try again\\n\"\n",
    "\n",
    "def addTasks(tasks):\n",
    "    print(\"\\nYou have selected the operation - add tasks:\")\n",
    "    i = len(tasks)\n",
    "    j = i\n",
    "    while True:\n",
    "        tasks.append(input(\"Add your task # %d or press enter for quit:\" % (i+1))) \n",
    "        if tasks[i] == \"\":\n",
    "            del tasks[i]\n",
    "            break\n",
    "        i += 1\n",
    "    print(\"Great! You added %d tasks:\" % (i-j))\n",
    "    for i in range(j, len(tasks)):\n",
    "        print(\"Task # %d is: %s\" % (i+1, tasks[i]))\n",
    "    return tasks\n",
    "\n",
    "def printTasks(tasks):\n",
    "    print(\"\\nYou have selected the operation - view all tasks:\")\n",
    "    for i in range(len(tasks)):\n",
    "        print(\"Task # %d is - %s\" %(i+1, tasks[i]))\n",
    "    return\n",
    "\n",
    "def deleteTasks(tasks):\n",
    "    print(\"\\nYou have selected the operation - delete tasks:\")\n",
    "    while True:\n",
    "        choice = int(input(\"Select how to delete task:\\n1. By number\\n2. By name\\nEnter '1' or '2': \"))\n",
    "        if choice == 1 or choice == 2:\n",
    "            break\n",
    "        else:\n",
    "            print(errmsg)\n",
    "    tasksForDel = []\n",
    "    i = 0\n",
    "    if choice == 1:\n",
    "        while True:\n",
    "            tasksForDel.append(input(\"Enter # of task (less than %d) for deleting and press enter \\nOr press enter for quit:\" % (len(tasks)+1))) \n",
    "            if tasksForDel[i] == \"\":\n",
    "                del tasksForDel[i]\n",
    "                break\n",
    "            elif tasksForDel[i].isdigit() and int(tasksForDel[i]) > len(tasks):\n",
    "                print(\"You entered # of task more than %d for deleting\" % (len(tasks)+1))\n",
    "            elif tasksForDel[i].isdigit() == False:\n",
    "                print(errmsg)\n",
    "            i += 1\n",
    "    else:\n",
    "        while True:\n",
    "            tasksForDel.append(input(\"Enter name of task for deleting and press enter \\nOr press enter for quit:\")) \n",
    "            if tasksForDel[i] == \"\":\n",
    "                del tasksForDel[i]\n",
    "                break\n",
    "            i += 1\n",
    "\n",
    "    tasksForDel.sort(reverse=True)\n",
    "    print(tasksForDel)\n",
    "    removedTasks = []\n",
    "    for i in tasksForDel:\n",
    "        if choice == 1:\n",
    "            print(i)\n",
    "            print(tasks)\n",
    "            a = tasks.pop(int(i)-1)\n",
    "            removedTasks.append(a)\n",
    "        else:\n",
    "            tasks.remove(i)\n",
    "\n",
    "    print(\"Great! You removed next tasks:\")\n",
    "    if choice == 1:\n",
    "        print(*removedTasks, sep = '\\n')\n",
    "    else:\n",
    "        print(*tasksForDel, sep = '\\n')\n",
    "    return tasks\n",
    "\n",
    "while True:\n",
    "    oper = input(\"Enter number of operation you would like:\\n 1 - Add task\\n 2 - View all tasks\\n 3 - Delete task by its name or number\\n or press enter for quit\")\n",
    "    if oper == \"\":\n",
    "        print(\"You've finished your session, Bye!\")\n",
    "        break\n",
    "    elif oper == \"1\":\n",
    "        tasks = addTasks(tasks)\n",
    "    elif oper == \"2\":\n",
    "        printTasks(tasks)\n",
    "    elif oper == \"3\":\n",
    "        deleteTasks(tasks)\n",
    "    else:\n",
    "        print(errmsg)"
   ]
  }
 ],
 "metadata": {
  "kernelspec": {
   "display_name": "Python 3",
   "language": "python",
   "name": "python3"
  },
  "language_info": {
   "codemirror_mode": {
    "name": "ipython",
    "version": 3
   },
   "file_extension": ".py",
   "mimetype": "text/x-python",
   "name": "python",
   "nbconvert_exporter": "python",
   "pygments_lexer": "ipython3",
   "version": "3.13.1"
  }
 },
 "nbformat": 4,
 "nbformat_minor": 5
}
