{
 "cells": [
  {
   "cell_type": "code",
   "execution_count": 1,
   "id": "afbdd5e8",
   "metadata": {},
   "outputs": [
    {
     "ename": "NameError",
     "evalue": "name 'random' is not defined",
     "output_type": "error",
     "traceback": [
      "\u001b[1;31m---------------------------------------------------------------------------\u001b[0m",
      "\u001b[1;31mNameError\u001b[0m                                 Traceback (most recent call last)",
      "Cell \u001b[1;32mIn[1], line 4\u001b[0m\n\u001b[0;32m      1\u001b[0m \u001b[38;5;66;03m# Number Guessing Game. The program chooses a secret random number between 1 and 100. The user has a limited number of attempts to guess it.\u001b[39;00m\n\u001b[0;32m      2\u001b[0m \u001b[38;5;66;03m# After each guess, the program tells the user if their guess was \"too high,\" \"too low,\" or \"correct.\"\u001b[39;00m\n\u001b[1;32m----> 4\u001b[0m a \u001b[38;5;241m=\u001b[39m \u001b[43mrandom\u001b[49m(\u001b[38;5;241m1\u001b[39m, \u001b[38;5;241m100\u001b[39m)\n\u001b[0;32m      5\u001b[0m \u001b[38;5;28mprint\u001b[39m(a)\n\u001b[0;32m      8\u001b[0m \u001b[38;5;124;03m\"\"\"\u001b[39;00m\n\u001b[0;32m      9\u001b[0m \n\u001b[0;32m     10\u001b[0m \u001b[38;5;124;03mbilAmnt = float(input(\"Введите сумму чека:\"))\u001b[39;00m\n\u001b[1;32m   (...)\u001b[0m\n\u001b[0;32m     71\u001b[0m \n\u001b[0;32m     72\u001b[0m \u001b[38;5;124;03m\"\"\"\u001b[39;00m\n",
      "\u001b[1;31mNameError\u001b[0m: name 'random' is not defined"
     ]
    }
   ],
   "source": [
    "# Number Guessing Game. The program chooses a secret random number between 1 and 100. The user has a limited number of attempts to guess it.\n",
    "# After each guess, the program tells the user if their guess was \"too high,\" \"too low,\" or \"correct.\"\n",
    "\n",
    "a = random(1, 100)\n",
    "print(a)\n",
    "\n",
    "\n",
    "\"\"\"\n",
    "\n",
    "bilAmnt = float(input(\"Введите сумму чека:\"))\n",
    "errmsg = \"\\nОшбика ввода. Введите заново\\n\"\n",
    "while True:\n",
    "    cnt = int(input(\"Количество гостей:\"))\n",
    "    if cnt > 0:\n",
    "        break\n",
    "    else:\n",
    "        print(errmsg)\n",
    "\n",
    "eachBillAmnt = bilAmnt/cnt\n",
    "totalTips = 0\n",
    "tipsList=[]\n",
    "\n",
    "if cnt > 1:\n",
    "    while True:\n",
    "        choice1 = int(input(\"Как будут распределены чаевые:\\n1. Общий на всех.\\n2. Каждый отдельно.\\nВведите '1' или '2': \"))\n",
    "        if choice1 == 1 or choice1 == 2:\n",
    "            break\n",
    "        else:\n",
    "            print(errmsg)\n",
    "\n",
    "if choice1 == 1 or cnt == 1:\n",
    "    while True:\n",
    "        choice2 = int(input(\"Выберите метод ввода чаевых:\\n1. Ручной ввод суммы чаевых.\\n2. Процент от суммы чека.\\nВведите '1' или '2': \"))\n",
    "        if choice2 == 1 or choice2 == 2:\n",
    "            break\n",
    "        else:\n",
    "            print(errmsg)\n",
    "    if choice2 == 1:\n",
    "        totalTips = float(input(\"Введите сумму чаевых:\"))\n",
    "    if choice2 == 2:\n",
    "        tipsFraction = int(input(\"Введите процент для чаевых:\"))\n",
    "        totalTips = tipsFraction * bilAmnt / 100\n",
    "    for i in range(cnt):\n",
    "        tipsList.append(totalTips/cnt)\n",
    "\n",
    "if choice1 == 2:\n",
    "    for i in range(cnt):\n",
    "        while True:\n",
    "            choice2 = int(input(\"Гость №%d Выберите метод ввода чаевых:\\n1. Ручной ввод суммы чаевых.\\n2. Процент от суммы чека.\\nВведите '1' или '2': \" % (i + 1)))\n",
    "            if choice2 == 1 or choice2 == 2:\n",
    "                break\n",
    "            else:\n",
    "                print(errmsg)\n",
    "        if choice2 == 1:\n",
    "            tips = float(input(\"Гость №%d введите сумму чаевых:\" % (i + 1)))\n",
    "        if choice2 == 2:\n",
    "            tipsFraction = int(input(\"Гость №%d введите процент для чаевых:\" % (i + 1)))\n",
    "            tips = eachBillAmnt * tipsFraction / 100\n",
    "        tipsList.append(tips)\n",
    "        totalTips = sum(tipsList)\n",
    "\n",
    "if cnt > 1:\n",
    "    for i in range(cnt):\n",
    "        if tipsList[i]/eachBillAmnt > 0.1:\n",
    "            farewellPhrase ='Вы очень щедры! Будем рады снова видеть вас, Спасибо!'\n",
    "        else:\n",
    "            farewellPhrase ='Спасибо за визит! Будем рады если вы не вернетесь!'\n",
    "        print('Гость № %d.\\n Доля суммы к оплате: $%0.2f.\\n Tips: $%0.2f.\\n Общая сумма к оплате: $ %0.2f.\\n %s\\n' %  (i+1, eachBillAmnt, tipsList[i], eachBillAmnt + tipsList[i], farewellPhrase))\n",
    "\n",
    "print('TotalTips: $%0.2f.\\nОбщая сумма к оплате: $ %0.2f.' %  (totalTips, bilAmnt + totalTips))\n",
    "\n",
    "\"\"\""
   ]
  }
 ],
 "metadata": {
  "kernelspec": {
   "display_name": "Python 3",
   "language": "python",
   "name": "python3"
  },
  "language_info": {
   "codemirror_mode": {
    "name": "ipython",
    "version": 3
   },
   "file_extension": ".py",
   "mimetype": "text/x-python",
   "name": "python",
   "nbconvert_exporter": "python",
   "pygments_lexer": "ipython3",
   "version": "3.13.1"
  }
 },
 "nbformat": 4,
 "nbformat_minor": 5
}
