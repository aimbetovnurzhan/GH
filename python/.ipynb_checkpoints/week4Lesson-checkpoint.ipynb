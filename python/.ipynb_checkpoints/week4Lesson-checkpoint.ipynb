{
 "cells": [
  {
   "cell_type": "code",
   "execution_count": null,
   "id": "de208204",
   "metadata": {},
   "outputs": [],
   "source": [
    "myint = 7\n",
    "print(myint)\n",
    "\n",
    "myfloat = 7.5\n",
    "print(myfloat)\n",
    "\n",
    "y = float(myint)\n",
    "print(y)\n"
   ]
  },
  {
   "cell_type": "code",
   "execution_count": 1,
   "id": "2fad0058",
   "metadata": {},
   "outputs": [
    {
     "name": "stdout",
     "output_type": "stream",
     "text": [
      "Hello\n",
      "9 10 17 7\n",
      "1 3.3333333333333335\n"
     ]
    }
   ],
   "source": [
    "\n",
    "mystring = \"Hello\"\n",
    "print(mystring)\n",
    "\n",
    "x = 7\n",
    "a, b, c = 9, 10, 17\n",
    "print(a, b, c, x)\n",
    "\n",
    "remainder = 10%3\n",
    "devRes = 10/3\n",
    "print(remainder, devRes)"
   ]
  },
  {
   "cell_type": "code",
   "execution_count": 2,
   "id": "04043f77",
   "metadata": {},
   "outputs": [
    {
     "name": "stdout",
     "output_type": "stream",
     "text": [
      "red\n",
      "green\n",
      "3\n"
     ]
    }
   ],
   "source": [
    "colors = ['red','blue','green']\n",
    "print(colors[0])\n",
    "print(colors[2])\n",
    "print(len(colors))"
   ]
  },
  {
   "cell_type": "code",
   "execution_count": 16,
   "id": "c94560d4",
   "metadata": {},
   "outputs": [
    {
     "name": "stdout",
     "output_type": "stream",
     "text": [
      "[5, 7, 9, 4, 1, 2, 3, 22, 10, 43]\n",
      "[1, 2, 3, 4, 5, 7, 10, 22, 43]\n",
      "[43, 22, 10, 7, 5, 4, 3, 2, 1]\n",
      "43\n",
      "[22, 10, 7, 5, 4, 3, 2, 1]\n"
     ]
    }
   ],
   "source": [
    "mylist =[5,7,9,4]\n",
    "mylist.append(1)\n",
    "mylist.append(2)\n",
    "mylist.append(3)\n",
    "\n",
    "\n",
    "mylist.extend([22, 10, 43])\n",
    "\n",
    "print(mylist)\n",
    "mylist.remove(9)\n",
    "mylist.sort()\n",
    "print(mylist)\n",
    "mylist.reverse()\n",
    "print(mylist)\n",
    "\n",
    "my_element = mylist.pop(0)\n",
    "print(my_element)\n",
    "print(mylist)"
   ]
  },
  {
   "cell_type": "code",
   "execution_count": 6,
   "id": "72626948",
   "metadata": {},
   "outputs": [
    {
     "name": "stdout",
     "output_type": "stream",
     "text": [
      "To chto bylo vvedeno: hello\n"
     ]
    }
   ],
   "source": [
    "x = input()\n",
    "print('To chto bylo vvedeno: ' + x)"
   ]
  },
  {
   "cell_type": "code",
   "execution_count": null,
   "id": "0b585f80",
   "metadata": {},
   "outputs": [],
   "source": [
    "a = 5\n",
    "b = 0.63\n",
    "c = \"hello\"\n",
    "print(\"a is : %d, b is %0.4f, c is %s\" % (a, b, c))"
   ]
  }
 ],
 "metadata": {
  "kernelspec": {
   "display_name": "Python 3",
   "language": "python",
   "name": "python3"
  },
  "language_info": {
   "codemirror_mode": {
    "name": "ipython",
    "version": 3
   },
   "file_extension": ".py",
   "mimetype": "text/x-python",
   "name": "python",
   "nbconvert_exporter": "python",
   "pygments_lexer": "ipython3",
   "version": "3.13.1"
  }
 },
 "nbformat": 4,
 "nbformat_minor": 5
}
