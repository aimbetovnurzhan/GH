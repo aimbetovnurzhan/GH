{
 "cells": [
  {
   "cell_type": "code",
   "execution_count": 4,
   "id": "de208204",
   "metadata": {},
   "outputs": [
    {
     "name": "stdout",
     "output_type": "stream",
     "text": [
      "week 4 lesson\n",
      "ll\n"
     ]
    }
   ],
   "source": [
    "print('week 4 lesson')\n",
    "def test(word):\n",
    "    a = len(word)\n",
    "    if a % 2 == 0:\n",
    "        return word[a//2 - 1:a//2 + 1]\n",
    "    else:\n",
    "        return word[::-1]\n",
    "\n",
    "\n",
    "print(test('hello1'))\n"
   ]
  }
 ],
 "metadata": {
  "kernelspec": {
   "display_name": "Python 3",
   "language": "python",
   "name": "python3"
  },
  "language_info": {
   "codemirror_mode": {
    "name": "ipython",
    "version": 3
   },
   "file_extension": ".py",
   "mimetype": "text/x-python",
   "name": "python",
   "nbconvert_exporter": "python",
   "pygments_lexer": "ipython3",
   "version": "3.13.1"
  }
 },
 "nbformat": 4,
 "nbformat_minor": 5
}
