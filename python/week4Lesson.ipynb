{
 "cells": [
  {
   "cell_type": "code",
   "execution_count": 14,
   "id": "de208204",
   "metadata": {},
   "outputs": [
    {
     "name": "stdout",
     "output_type": "stream",
     "text": [
      "week 4 lesson\n",
      "olleh\n",
      "wo\n",
      "['\"True\" �� \\uf8ab���� ����७��� ��� ���譥�', '��������, �ᯮ��塞�� �ணࠬ��� ��� ������ 䠩���.']\n"
     ]
    }
   ],
   "source": [
    "print('week 4 lesson')\n",
    "def test(word):\n",
    "    a = len(word)\n",
    "    if a % 2 == 0:\n",
    "        return word[:2]\n",
    "    else:\n",
    "        return word[::-1]\n",
    "\n",
    "print(test('hello'))\n",
    "print(test('word'))\n",
    "\n",
    "z = !True\n",
    "y = z\n",
    "print(y)"
   ]
  }
 ],
 "metadata": {
  "kernelspec": {
   "display_name": "Python 3",
   "language": "python",
   "name": "python3"
  },
  "language_info": {
   "codemirror_mode": {
    "name": "ipython",
    "version": 3
   },
   "file_extension": ".py",
   "mimetype": "text/x-python",
   "name": "python",
   "nbconvert_exporter": "python",
   "pygments_lexer": "ipython3",
   "version": "3.13.1"
  }
 },
 "nbformat": 4,
 "nbformat_minor": 5
}
